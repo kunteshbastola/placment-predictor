{
  "nbformat": 4,
  "nbformat_minor": 0,
  "metadata": {
    "colab": {
      "provenance": []
    },
    "kernelspec": {
      "name": "python3",
      "display_name": "Python 3"
    },
    "language_info": {
      "name": "python"
    }
  },
  "cells": [
    {
      "cell_type": "code",
      "execution_count": null,
      "metadata": {
        "id": "GmMJ2a7Q_mxs"
      },
      "outputs": [],
      "source": [
        "import pandas as pd\n",
        "import numpy as np\n",
        "import matplotlib.pyplot as plt\n",
        "from sklearn.model_selection import train_test_split\n",
        "from sklearn.preprocessing import StandardScaler\n",
        "import seaborn as sns"
      ]
    },
    {
      "cell_type": "markdown",
      "source": [
        "we can directly remove the unwanted column while reading the csv file"
      ],
      "metadata": {
        "id": "7tNXKOYcIjFt"
      }
    },
    {
      "cell_type": "code",
      "source": [
        "df = pd.read_csv('/content/placement.csv',index_col='Unnamed: 0')\n",
        "df"
      ],
      "metadata": {
        "id": "-pdnm4_RBE5I"
      },
      "execution_count": null,
      "outputs": []
    },
    {
      "cell_type": "code",
      "source": [
        "df.head(5)\n"
      ],
      "metadata": {
        "id": "RUlAEfUWBKZu"
      },
      "execution_count": null,
      "outputs": []
    },
    {
      "cell_type": "code",
      "source": [
        "df.shape\n",
        "df.info()"
      ],
      "metadata": {
        "collapsed": true,
        "id": "pJamTJddBOSN"
      },
      "execution_count": null,
      "outputs": []
    },
    {
      "cell_type": "markdown",
      "source": [
        "removing the unnecessary column using preprocessing\n",
        "the code says all rows,1strow and onwards\n"
      ],
      "metadata": {
        "id": "sAZGiEp8Dbjs"
      }
    },
    {
      "cell_type": "code",
      "source": [
        "# # df.iloc[:, 1:]\n",
        "# df.head()"
      ],
      "metadata": {
        "id": "o_CPNViQBcq9"
      },
      "execution_count": null,
      "outputs": []
    },
    {
      "cell_type": "markdown",
      "source": [
        "this is called eda evaluation data analysis"
      ],
      "metadata": {
        "id": "rT85D_p_FqqV"
      }
    },
    {
      "cell_type": "code",
      "source": [
        "sns.scatterplot(x='cgpa',y='iq',data=df,hue='placement')"
      ],
      "metadata": {
        "id": "MqNzcifXDYbF"
      },
      "execution_count": null,
      "outputs": []
    },
    {
      "cell_type": "markdown",
      "source": [
        "now we divide the data into two sets independent sets and dependent sets, cgpa and iq are independent sets where as placement is dependent set\n",
        "\n",
        "\n"
      ],
      "metadata": {
        "id": "i34U2jlVFbEW"
      }
    },
    {
      "cell_type": "code",
      "source": [
        "x = df.iloc[:,0:2]\n",
        "y= df.iloc[:,-1]"
      ],
      "metadata": {
        "id": "LodprxlpDONZ"
      },
      "execution_count": null,
      "outputs": []
    },
    {
      "cell_type": "code",
      "source": [
        "y"
      ],
      "metadata": {
        "id": "CMVwZvpNG1Qo"
      },
      "execution_count": null,
      "outputs": []
    },
    {
      "cell_type": "code",
      "source": [
        "x_train,x_test,y_train,y_test = train_test_split(x,y,test_size=0.2)\n",
        "x_test"
      ],
      "metadata": {
        "id": "vzH3ETbvG27Q"
      },
      "execution_count": null,
      "outputs": []
    },
    {
      "cell_type": "markdown",
      "source": [
        "making the dataset in terms of -1 to 0 so we can get the accurate result"
      ],
      "metadata": {
        "id": "DG-iOO7ELeTk"
      }
    },
    {
      "cell_type": "code",
      "source": [
        "StandardScaler = StandardScaler()\n",
        "x_train = StandardScaler.fit_transform(x_train)\n",
        "x_test = StandardScaler.fit_transform(x_test)"
      ],
      "metadata": {
        "id": "RnW16p2oJsK6"
      },
      "execution_count": null,
      "outputs": []
    },
    {
      "cell_type": "code",
      "source": [
        "from sklearn.linear_model import LogisticRegression"
      ],
      "metadata": {
        "id": "McZq89dELS3d"
      },
      "execution_count": null,
      "outputs": []
    },
    {
      "cell_type": "code",
      "source": [
        "clf=LogisticRegression()"
      ],
      "metadata": {
        "id": "MD9wiH5bLUe9"
      },
      "execution_count": null,
      "outputs": []
    },
    {
      "cell_type": "code",
      "source": [
        "# model training\n",
        "clf.fit(x_train,y_train)\n"
      ],
      "metadata": {
        "id": "b4qnhnBcL_uU"
      },
      "execution_count": null,
      "outputs": []
    },
    {
      "cell_type": "code",
      "source": [
        "y_pred = clf.predict(x_test)\n",
        "y_pred"
      ],
      "metadata": {
        "id": "fNCYzWcwMOmr"
      },
      "execution_count": null,
      "outputs": []
    },
    {
      "cell_type": "code",
      "source": [
        "# comparing the test dataset with the predicated dataset\n",
        "from sklearn.metrics import accuracy_score\n",
        "accuracy_score(y_test,y_pred)\n"
      ],
      "metadata": {
        "id": "XrhJI2flM3Dx"
      },
      "execution_count": null,
      "outputs": []
    },
    {
      "cell_type": "code",
      "source": [
        "!pip install mlextend==0.22.0\n",
        "!pip install --upgrade pip"
      ],
      "metadata": {
        "id": "FCEro-atNa5I"
      },
      "execution_count": null,
      "outputs": []
    },
    {
      "cell_type": "markdown",
      "source": [
        "to plot the final result of the model using graph\n"
      ],
      "metadata": {
        "id": "8vTwMYXMOoLY"
      }
    },
    {
      "cell_type": "code",
      "source": [
        "# we used x_train using stnadardscaler which is aldready in numpy whereas the\n",
        "# y_train is not in numpy so we use the .values to make it numpy\n",
        "from mlxtend.plotting import plot_decision_regions\n",
        "plot_decision_regions(x_train,y_train.values,clf=clf,legend=2)"
      ],
      "metadata": {
        "id": "tUcElgQoOT2-"
      },
      "execution_count": null,
      "outputs": []
    },
    {
      "cell_type": "code",
      "source": [
        "import pickle\n",
        "pickle.dump(clf,open('model.pkl','wb'))\n",
        "# ... (Your code using pickle)"
      ],
      "metadata": {
        "id": "MiIQO8vXPzub"
      },
      "execution_count": null,
      "outputs": []
    },
    {
      "cell_type": "code",
      "source": [],
      "metadata": {
        "id": "59UGYpmfQ6ZI"
      },
      "execution_count": null,
      "outputs": []
    },
    {
      "cell_type": "code",
      "source": [],
      "metadata": {
        "id": "DNmgfpQ1RHuN"
      },
      "execution_count": null,
      "outputs": []
    }
  ]
}